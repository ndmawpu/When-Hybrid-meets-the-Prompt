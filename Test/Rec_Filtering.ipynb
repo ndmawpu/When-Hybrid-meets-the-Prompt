{
 "cells": [
  {
   "cell_type": "code",
   "execution_count": 10,
   "metadata": {},
   "outputs": [],
   "source": [
    "import pandas as pd\n",
    "import numpy as np\n",
    "import sys\n",
    "sys.path.append('../Model/Hybrid')\n",
    "from Rec_Filtering import RecommenderFiltering"
   ]
  },
  {
   "cell_type": "code",
   "execution_count": 11,
   "metadata": {},
   "outputs": [],
   "source": [
    "df_anime = pd.read_csv(\"../Data/anime_adj.csv\")"
   ]
  },
  {
   "cell_type": "markdown",
   "metadata": {},
   "source": [
    "# Key word search recommender module to filter products by keywords"
   ]
  },
  {
   "cell_type": "code",
   "execution_count": 12,
   "metadata": {},
   "outputs": [],
   "source": [
    "kw = RecommenderFiltering(top_k=3, \n",
    "                          sort_by_mem=True,\n",
    "                          df=df_anime, \n",
    "                          sort_order=False)"
   ]
  },
  {
   "cell_type": "code",
   "execution_count": 13,
   "metadata": {},
   "outputs": [
    {
     "name": "stdout",
     "output_type": "stream",
     "text": [
      "---------------------\n",
      "    Unnamed: 0                         item_name  \\\n",
      "1            1  Fullmetal Alchemist: Brotherhood   \n",
      "6            6            Hunter x Hunter (2011)   \n",
      "12          12                           Gintama   \n",
      "\n",
      "                                           item_genre  item_avg_rating  \\\n",
      "1   Action, Adventure, Drama, Fantasy, Magic, Mili...             9.26   \n",
      "6             Action, Adventure, Shounen, Super Power             9.13   \n",
      "12  Action, Comedy, Historical, Parody, Samurai, S...             9.04   \n",
      "\n",
      "    item_members  \n",
      "1         793665  \n",
      "6         425855  \n",
      "12        336376  \n"
     ]
    }
   ],
   "source": [
    "\n",
    "print(\"---------------------\")\n",
    "kw.keyword_search(item_categories=\"Action\")\n",
    "test = kw.rec_rs\n",
    "print(test)"
   ]
  },
  {
   "cell_type": "code",
   "execution_count": 14,
   "metadata": {},
   "outputs": [
    {
     "name": "stdout",
     "output_type": "stream",
     "text": [
      "---------------------\n",
      "    Unnamed: 0      item_name  \\\n",
      "12          12        Gintama   \n",
      "4            4  Gintama&#039;   \n",
      "2            2       Gintama°   \n",
      "\n",
      "                                           item_genre  item_avg_rating  \\\n",
      "12  Action, Comedy, Historical, Parody, Samurai, S...             9.04   \n",
      "4   Action, Comedy, Historical, Parody, Samurai, S...             9.16   \n",
      "2   Action, Comedy, Historical, Parody, Samurai, S...             9.25   \n",
      "\n",
      "    item_members  \n",
      "12        336376  \n",
      "4         151266  \n",
      "2         114262  \n"
     ]
    }
   ],
   "source": [
    "print(\"---------------------\")\n",
    "kw.keyword_search(item_title=\"Gintama\")\n",
    "test = kw.rec_rs\n",
    "print(test)"
   ]
  }
 ],
 "metadata": {
  "kernelspec": {
   "display_name": "Python 3",
   "language": "python",
   "name": "python3"
  },
  "language_info": {
   "codemirror_mode": {
    "name": "ipython",
    "version": 3
   },
   "file_extension": ".py",
   "mimetype": "text/x-python",
   "name": "python",
   "nbconvert_exporter": "python",
   "pygments_lexer": "ipython3",
   "version": "3.11.2"
  },
  "orig_nbformat": 4
 },
 "nbformat": 4,
 "nbformat_minor": 2
}
